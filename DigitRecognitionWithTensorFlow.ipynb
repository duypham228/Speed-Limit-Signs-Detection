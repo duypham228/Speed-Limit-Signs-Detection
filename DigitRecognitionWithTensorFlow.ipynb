{
 "cells": [
  {
   "cell_type": "markdown",
   "metadata": {
    "colab_type": "text",
    "id": "rX8mhOLljYeM"
   },
   "source": [
    "##### Copyright 2018 The TensorFlow Authors.\n",
    "\n",
    "Licensed under the Apache License, Version 2.0 (the \"License\");"
   ]
  },
  {
   "cell_type": "code",
   "execution_count": 1,
   "metadata": {
    "cellView": "form",
    "colab": {},
    "colab_type": "code",
    "id": "BZSlp3DAjdYf"
   },
   "outputs": [],
   "source": [
    "#@title Licensed under the Apache License, Version 2.0 (the \"License\");\n",
    "# you may not use this file except in compliance with the License.\n",
    "# You may obtain a copy of the License at\n",
    "#\n",
    "# https://www.apache.org/licenses/LICENSE-2.0\n",
    "#\n",
    "# Unless required by applicable law or agreed to in writing, software\n",
    "# distributed under the License is distributed on an \"AS IS\" BASIS,\n",
    "# WITHOUT WARRANTIES OR CONDITIONS OF ANY KIND, either express or implied.\n",
    "# See the License for the specific language governing permissions and\n",
    "# limitations under the License."
   ]
  },
  {
   "cell_type": "markdown",
   "metadata": {
    "colab_type": "text",
    "id": "3wF5wszaj97Y"
   },
   "source": [
    "# Get Started with TensorFlow"
   ]
  },
  {
   "cell_type": "markdown",
   "metadata": {
    "colab_type": "text",
    "id": "DUNzJc4jTj6G"
   },
   "source": [
    "<table class=\"tfo-notebook-buttons\" align=\"left\">\n",
    "  <td>\n",
    "    <a target=\"_blank\" href=\"https://www.tensorflow.org/tutorials/\"><img src=\"https://www.tensorflow.org/images/tf_logo_32px.png\" />View on TensorFlow.org</a>\n",
    "  </td>\n",
    "  <td>\n",
    "    <a target=\"_blank\" href=\"https://colab.research.google.com/github/tensorflow/docs/blob/master/site/en/tutorials/_index.ipynb\"><img src=\"https://www.tensorflow.org/images/colab_logo_32px.png\" />Run in Google Colab</a>\n",
    "  </td>\n",
    "  <td>\n",
    "    <a target=\"_blank\" href=\"https://github.com/tensorflow/docs/blob/master/site/en/tutorials/_index.ipynb\"><img src=\"https://www.tensorflow.org/images/GitHub-Mark-32px.png\" />View source on GitHub</a>\n",
    "  </td>\n",
    "</table>"
   ]
  },
  {
   "cell_type": "markdown",
   "metadata": {
    "colab_type": "text",
    "id": "hiH7AC-NTniF"
   },
   "source": [
    "This is a [Google Colaboratory](https://colab.research.google.com/notebooks/welcome.ipynb) notebook file. Python programs are run directly in the browser—a great way to learn and use TensorFlow. To run the Colab notebook:\n",
    "\n",
    "1. Connect to a Python runtime: At the top-right of the menu bar, select *CONNECT*.\n",
    "2. Run all the notebook code cells: Select *Runtime* > *Run all*.\n",
    "\n",
    "For more examples and guides (including details for this program), see [Get Started with TensorFlow](https://www.tensorflow.org/get_started/).\n",
    "\n",
    "Let's get started, import the TensorFlow library into your program:"
   ]
  },
  {
   "cell_type": "code",
   "execution_count": 1,
   "metadata": {
    "colab": {},
    "colab_type": "code",
    "id": "0trJmd6DjqBZ"
   },
   "outputs": [],
   "source": [
    "from __future__ import absolute_import, division, print_function, unicode_literals\n",
    "import tensorflow as tf\n",
    "import os"
   ]
  },
  {
   "cell_type": "code",
   "execution_count": 3,
   "metadata": {},
   "outputs": [],
   "source": [
    "#https://www.tensorflow.org/tutorials/load_data/images\n",
    "\n",
    "#images folder path\n",
    "dirname = os.getcwd()\n",
    "# curpath = os.path.join(dirname, 'dev_ws/dataset/crop-images')\n",
    "alternate = os.path.join(dirname, 'dev_ws/dataset/dataset-ml')"
   ]
  },
  {
   "cell_type": "code",
   "execution_count": 4,
   "metadata": {},
   "outputs": [
    {
     "name": "stdout",
     "output_type": "stream",
     "text": [
      "Found 272 files belonging to 10 classes.\n",
      "Using 218 files for training.\n",
      "Found 272 files belonging to 10 classes.\n",
      "Using 54 files for validation.\n"
     ]
    },
    {
     "name": "stderr",
     "output_type": "stream",
     "text": [
      "2022-04-25 11:29:14.780206: W tensorflow/core/platform/profile_utils/cpu_utils.cc:128] Failed to get CPU frequency: 0 Hz\n"
     ]
    }
   ],
   "source": [
    "#https://www.tensorflow.org/tutorials/keras/save_and_load\n",
    "#https://www.pythonfixing.com/2022/01/fixed-batchdataset-get-img-array-and.html \n",
    "\n",
    "#specify image dimensions\n",
    "img_height = 28\n",
    "img_width = 28\n",
    "\n",
    "#load in the dataset with train-test split\n",
    "train_ds = tf.keras.utils.image_dataset_from_directory(alternate, validation_split=0.2, subset=\"training\", seed=123,\n",
    "  image_size=(img_height, img_width))\n",
    "val_ds = tf.keras.utils.image_dataset_from_directory(alternate, validation_split=0.2, subset=\"validation\", seed=123,\n",
    "  image_size=(img_height, img_width))\n",
    "\n",
    "train_ds_unbatch = train_ds.unbatch()\n",
    "x_train = list(train_ds_unbatch.map(lambda x, y: x))\n",
    "y_train = list(train_ds_unbatch.map(lambda x, y: y))\n",
    "\n",
    "val_ds_unbatch = val_ds.unbatch()\n",
    "x_test = list(val_ds_unbatch.map(lambda x, y: x))\n",
    "y_test = list(val_ds_unbatch.map(lambda x, y: y))"
   ]
  },
  {
   "cell_type": "markdown",
   "metadata": {},
   "source": [
    "Let's examine our dataset. Below code was taken from https://github.com/ageron/handson-ml/blob/master/03_classification.ipynb"
   ]
  },
  {
   "cell_type": "code",
   "execution_count": 5,
   "metadata": {},
   "outputs": [],
   "source": [
    "import numpy as np\n",
    "import matplotlib.pyplot as plt\n",
    "import matplotlib as mpl\n",
    "\n",
    "def plot_digit(data):\n",
    "    image = data.reshape(28, 28)\n",
    "    plt.imshow(image, cmap = mpl.cm.binary, interpolation=\"nearest\")\n",
    "    plt.axis(\"off\")"
   ]
  },
  {
   "cell_type": "code",
   "execution_count": 6,
   "metadata": {},
   "outputs": [
    {
     "ename": "AttributeError",
     "evalue": "module 'tensorflow' has no attribute 'layers'",
     "output_type": "error",
     "traceback": [
      "\u001b[0;31m---------------------------------------------------------------------------\u001b[0m",
      "\u001b[0;31mAttributeError\u001b[0m                            Traceback (most recent call last)",
      "\u001b[1;32m/Users/duy/Desktop/482/Capstone_Speed_Limit_Classification/DigitRecognitionWithTensorFlow.ipynb Cell 11'\u001b[0m in \u001b[0;36m<cell line: 8>\u001b[0;34m()\u001b[0m\n\u001b[1;32m      <a href='vscode-notebook-cell:/Users/duy/Desktop/482/Capstone_Speed_Limit_Classification/DigitRecognitionWithTensorFlow.ipynb#ch0000010?line=0'>1</a>\u001b[0m \u001b[39m# model = tf.keras.models.Sequential([\u001b[39;00m\n\u001b[1;32m      <a href='vscode-notebook-cell:/Users/duy/Desktop/482/Capstone_Speed_Limit_Classification/DigitRecognitionWithTensorFlow.ipynb#ch0000010?line=1'>2</a>\u001b[0m \u001b[39m#   tf.keras.layers.Flatten(),\u001b[39;00m\n\u001b[1;32m      <a href='vscode-notebook-cell:/Users/duy/Desktop/482/Capstone_Speed_Limit_Classification/DigitRecognitionWithTensorFlow.ipynb#ch0000010?line=2'>3</a>\u001b[0m \u001b[39m#   tf.keras.layers.Dense(512, activation=tf.nn.relu),\u001b[39;00m\n\u001b[1;32m      <a href='vscode-notebook-cell:/Users/duy/Desktop/482/Capstone_Speed_Limit_Classification/DigitRecognitionWithTensorFlow.ipynb#ch0000010?line=3'>4</a>\u001b[0m \u001b[39m#   tf.keras.layers.Dropout(0.2),\u001b[39;00m\n\u001b[1;32m      <a href='vscode-notebook-cell:/Users/duy/Desktop/482/Capstone_Speed_Limit_Classification/DigitRecognitionWithTensorFlow.ipynb#ch0000010?line=4'>5</a>\u001b[0m \u001b[39m#   tf.keras.layers.Dense(10, activation=tf.nn.softmax)\u001b[39;00m\n\u001b[1;32m      <a href='vscode-notebook-cell:/Users/duy/Desktop/482/Capstone_Speed_Limit_Classification/DigitRecognitionWithTensorFlow.ipynb#ch0000010?line=5'>6</a>\u001b[0m \u001b[39m# ])\u001b[39;00m\n\u001b[1;32m      <a href='vscode-notebook-cell:/Users/duy/Desktop/482/Capstone_Speed_Limit_Classification/DigitRecognitionWithTensorFlow.ipynb#ch0000010?line=7'>8</a>\u001b[0m model \u001b[39m=\u001b[39m tf\u001b[39m.\u001b[39mkeras\u001b[39m.\u001b[39mmodels\u001b[39m.\u001b[39mSequential([\n\u001b[0;32m----> <a href='vscode-notebook-cell:/Users/duy/Desktop/482/Capstone_Speed_Limit_Classification/DigitRecognitionWithTensorFlow.ipynb#ch0000010?line=8'>9</a>\u001b[0m   tf\u001b[39m.\u001b[39;49mlayers\u001b[39m.\u001b[39mRescaling(\u001b[39m1.\u001b[39m\u001b[39m/\u001b[39m\u001b[39m255\u001b[39m, input_shape\u001b[39m=\u001b[39m(img_height, img_width, \u001b[39m3\u001b[39m)),\n\u001b[1;32m     <a href='vscode-notebook-cell:/Users/duy/Desktop/482/Capstone_Speed_Limit_Classification/DigitRecognitionWithTensorFlow.ipynb#ch0000010?line=9'>10</a>\u001b[0m   tf\u001b[39m.\u001b[39mlayers\u001b[39m.\u001b[39mConv2D(\u001b[39m16\u001b[39m, \u001b[39m3\u001b[39m, padding\u001b[39m=\u001b[39m\u001b[39m'\u001b[39m\u001b[39msame\u001b[39m\u001b[39m'\u001b[39m, activation\u001b[39m=\u001b[39m\u001b[39m'\u001b[39m\u001b[39mrelu\u001b[39m\u001b[39m'\u001b[39m),\n\u001b[1;32m     <a href='vscode-notebook-cell:/Users/duy/Desktop/482/Capstone_Speed_Limit_Classification/DigitRecognitionWithTensorFlow.ipynb#ch0000010?line=10'>11</a>\u001b[0m   tf\u001b[39m.\u001b[39mlayers\u001b[39m.\u001b[39mMaxPooling2D(),\n\u001b[1;32m     <a href='vscode-notebook-cell:/Users/duy/Desktop/482/Capstone_Speed_Limit_Classification/DigitRecognitionWithTensorFlow.ipynb#ch0000010?line=11'>12</a>\u001b[0m   tf\u001b[39m.\u001b[39mlayers\u001b[39m.\u001b[39mConv2D(\u001b[39m32\u001b[39m, \u001b[39m3\u001b[39m, padding\u001b[39m=\u001b[39m\u001b[39m'\u001b[39m\u001b[39msame\u001b[39m\u001b[39m'\u001b[39m, activation\u001b[39m=\u001b[39m\u001b[39m'\u001b[39m\u001b[39mrelu\u001b[39m\u001b[39m'\u001b[39m),\n\u001b[1;32m     <a href='vscode-notebook-cell:/Users/duy/Desktop/482/Capstone_Speed_Limit_Classification/DigitRecognitionWithTensorFlow.ipynb#ch0000010?line=12'>13</a>\u001b[0m   tf\u001b[39m.\u001b[39mlayers\u001b[39m.\u001b[39mMaxPooling2D(),\n\u001b[1;32m     <a href='vscode-notebook-cell:/Users/duy/Desktop/482/Capstone_Speed_Limit_Classification/DigitRecognitionWithTensorFlow.ipynb#ch0000010?line=13'>14</a>\u001b[0m   tf\u001b[39m.\u001b[39mlayers\u001b[39m.\u001b[39mConv2D(\u001b[39m64\u001b[39m, \u001b[39m3\u001b[39m, padding\u001b[39m=\u001b[39m\u001b[39m'\u001b[39m\u001b[39msame\u001b[39m\u001b[39m'\u001b[39m, activation\u001b[39m=\u001b[39m\u001b[39m'\u001b[39m\u001b[39mrelu\u001b[39m\u001b[39m'\u001b[39m),\n\u001b[1;32m     <a href='vscode-notebook-cell:/Users/duy/Desktop/482/Capstone_Speed_Limit_Classification/DigitRecognitionWithTensorFlow.ipynb#ch0000010?line=14'>15</a>\u001b[0m   tf\u001b[39m.\u001b[39mlayers\u001b[39m.\u001b[39mMaxPooling2D(),\n\u001b[1;32m     <a href='vscode-notebook-cell:/Users/duy/Desktop/482/Capstone_Speed_Limit_Classification/DigitRecognitionWithTensorFlow.ipynb#ch0000010?line=15'>16</a>\u001b[0m   tf\u001b[39m.\u001b[39mlayers\u001b[39m.\u001b[39mFlatten(),\n\u001b[1;32m     <a href='vscode-notebook-cell:/Users/duy/Desktop/482/Capstone_Speed_Limit_Classification/DigitRecognitionWithTensorFlow.ipynb#ch0000010?line=16'>17</a>\u001b[0m   tf\u001b[39m.\u001b[39mlayers\u001b[39m.\u001b[39mDense(\u001b[39m128\u001b[39m, activation\u001b[39m=\u001b[39m\u001b[39m'\u001b[39m\u001b[39mrelu\u001b[39m\u001b[39m'\u001b[39m),\n\u001b[1;32m     <a href='vscode-notebook-cell:/Users/duy/Desktop/482/Capstone_Speed_Limit_Classification/DigitRecognitionWithTensorFlow.ipynb#ch0000010?line=17'>18</a>\u001b[0m   tf\u001b[39m.\u001b[39mlayers\u001b[39m.\u001b[39mDense(\u001b[39m9\u001b[39m)\n\u001b[1;32m     <a href='vscode-notebook-cell:/Users/duy/Desktop/482/Capstone_Speed_Limit_Classification/DigitRecognitionWithTensorFlow.ipynb#ch0000010?line=18'>19</a>\u001b[0m ])\n",
      "\u001b[0;31mAttributeError\u001b[0m: module 'tensorflow' has no attribute 'layers'"
     ]
    }
   ],
   "source": [
    "# model = tf.keras.models.Sequential([\n",
    "#   tf.keras.layers.Flatten(),\n",
    "#   tf.keras.layers.Dense(512, activation=tf.nn.relu),\n",
    "#   tf.keras.layers.Dropout(0.2),\n",
    "#   tf.keras.layers.Dense(10, activation=tf.nn.softmax)\n",
    "# ])\n",
    "\n",
    "model = tf.keras.models.Sequential([\n",
    "  tf.keras.layers.Rescaling(1./255, input_shape=(img_height, img_width, 3)),\n",
    "  tf.keras.layers.Conv2D(16, 3, padding='same', activation='relu'),\n",
    "  tf.keras.layers.MaxPooling2D(),\n",
    "  tf.keras.layers.Conv2D(32, 3, padding='same', activation='relu'),\n",
    "  tf.keras.layers.MaxPooling2D(),\n",
    "  tf.keras.layers.Conv2D(64, 3, padding='same', activation='relu'),\n",
    "  tf.keras.layers.MaxPooling2D(),\n",
    "  tf.keras.layers.Flatten(),\n",
    "  tf.keras.layers.Dense(128, activation='relu'),\n",
    "  tf.keras.layers.Dense(9)\n",
    "])"
   ]
  },
  {
   "cell_type": "code",
   "execution_count": 6,
   "metadata": {},
   "outputs": [],
   "source": [
    "model.compile(optimizer='adam', loss='sparse_categorical_crossentropy', metrics=['accuracy'])"
   ]
  },
  {
   "cell_type": "code",
   "execution_count": 15,
   "metadata": {},
   "outputs": [
    {
     "name": "stdout",
     "output_type": "stream",
     "text": [
      "Epoch 1/10\n",
      "7/7 [==============================] - 0s 8ms/step - loss: 0.0423 - accuracy: 0.9954 - val_loss: 76.2982 - val_accuracy: 0.7037\n",
      "Epoch 2/10\n",
      "7/7 [==============================] - 0s 6ms/step - loss: 1.0490 - accuracy: 0.9862 - val_loss: 82.7161 - val_accuracy: 0.6481\n",
      "Epoch 3/10\n",
      "7/7 [==============================] - 0s 6ms/step - loss: 1.0428 - accuracy: 0.9725 - val_loss: 63.6346 - val_accuracy: 0.7407\n",
      "Epoch 4/10\n",
      "7/7 [==============================] - 0s 5ms/step - loss: 1.9257 - accuracy: 0.9771 - val_loss: 73.2732 - val_accuracy: 0.6667\n",
      "Epoch 5/10\n",
      "7/7 [==============================] - 0s 5ms/step - loss: 0.9621 - accuracy: 0.9862 - val_loss: 99.0491 - val_accuracy: 0.6481\n",
      "Epoch 6/10\n",
      "7/7 [==============================] - 0s 5ms/step - loss: 2.1700 - accuracy: 0.9679 - val_loss: 68.3762 - val_accuracy: 0.6667\n",
      "Epoch 7/10\n",
      "7/7 [==============================] - 0s 5ms/step - loss: 1.4056 - accuracy: 0.9725 - val_loss: 63.8435 - val_accuracy: 0.6852\n",
      "Epoch 8/10\n",
      "7/7 [==============================] - 0s 5ms/step - loss: 1.9675 - accuracy: 0.9908 - val_loss: 110.1325 - val_accuracy: 0.5926\n",
      "Epoch 9/10\n",
      "7/7 [==============================] - 0s 5ms/step - loss: 4.0866 - accuracy: 0.9633 - val_loss: 56.3806 - val_accuracy: 0.7222\n",
      "Epoch 10/10\n",
      "7/7 [==============================] - 0s 5ms/step - loss: 1.1992 - accuracy: 0.9862 - val_loss: 51.1010 - val_accuracy: 0.7222\n"
     ]
    },
    {
     "data": {
      "text/plain": [
       "<keras.callbacks.History at 0x16212ea00>"
      ]
     },
     "execution_count": 15,
     "metadata": {},
     "output_type": "execute_result"
    }
   ],
   "source": [
    "model.fit(train_ds, validation_data=val_ds, epochs=10)"
   ]
  },
  {
   "cell_type": "markdown",
   "metadata": {
    "colab_type": "text",
    "id": "T4JfEh7kvx6m"
   },
   "source": [
    "You’ve now trained an image classifier. See [Get Started with TensorFlow](https://www.tensorflow.org/get_started/) to learn more."
   ]
  },
  {
   "cell_type": "code",
   "execution_count": 8,
   "metadata": {
    "colab": {},
    "colab_type": "code",
    "id": "hsTSsnyfF9U0"
   },
   "outputs": [],
   "source": [
    "from PIL import Image\n",
    "from tensorflow.keras.preprocessing import image\n",
    "from tensorflow.keras.applications.resnet50 import preprocess_input, decode_predictions"
   ]
  },
  {
   "cell_type": "markdown",
   "metadata": {},
   "source": [
    "Import libraries to handle loading and displaying images"
   ]
  },
  {
   "cell_type": "code",
   "execution_count": 9,
   "metadata": {},
   "outputs": [],
   "source": [
    "def make_prediction_and_display_image(np_image, tensorflow_model):\n",
    "    image = np_image.reshape(1, 28, 28)\n",
    "\n",
    "    print(\"Predicted Label: \", np.argmax(tensorflow_model.predict(image)[0]))\n",
    "    print('Actual image: ')\n",
    "    plt.figure(figsize = (1, 1))\n",
    "    plt.imshow(Image.fromarray(image[0]), cmap = 'gray')"
   ]
  },
  {
   "cell_type": "markdown",
   "metadata": {},
   "source": [
    "Test our model with one random image in our test set."
   ]
  },
  {
   "cell_type": "code",
   "execution_count": null,
   "metadata": {},
   "outputs": [],
   "source": []
  },
  {
   "cell_type": "code",
   "execution_count": null,
   "metadata": {},
   "outputs": [],
   "source": [
    "print(\"Predicted Label: \", np.argmax(model.predict(x_test[42].numpy())))\n",
    "print('Actual image: ')\n",
    "plt.figure(figsize = (1, 1))\n",
    "plt.imshow((x_test[42].numpy()), cmap = 'gray')"
   ]
  },
  {
   "cell_type": "code",
   "execution_count": null,
   "metadata": {},
   "outputs": [],
   "source": [
    "number_three = np.array(np.array(Image.open('mnist_test/3.png')))\n",
    "make_prediction_and_display_image(number_three, model)"
   ]
  },
  {
   "cell_type": "code",
   "execution_count": 21,
   "metadata": {
    "colab": {},
    "colab_type": "code",
    "id": "OscxG_BhIfa1"
   },
   "outputs": [
    {
     "name": "stdout",
     "output_type": "stream",
     "text": [
      "<class 'PIL.Image.Image'>\n",
      "<class 'numpy.ndarray'>\n",
      "Predicted Label:  6\n",
      "Actual image: \n"
     ]
    },
    {
     "data": {
      "text/plain": [
       "<matplotlib.image.AxesImage at 0x162370c10>"
      ]
     },
     "execution_count": 21,
     "metadata": {},
     "output_type": "execute_result"
    },
    {
     "data": {
      "image/png": "[encoded data removed]",
      "text/plain": [
       "<Figure size 72x72 with 1 Axes>"
      ]
     },
     "metadata": {
      "needs_background": "light"
     },
     "output_type": "display_data"
    }
   ],
   "source": [
    "# number_nine = Image.open('mnist_test/dataset-ml/0/0-m-1.jpeg')\n",
    "number_nine = image.load_img('mnist_test/6.png', target_size=(28, 28))\n",
    "print(type(number_nine))\n",
    "img_array = image.img_to_array(number_nine)\n",
    "img_batch = np.expand_dims(img_array, axis=0)\n",
    "img_preprocessed = preprocess_input(img_batch)\n",
    "print(type(img_preprocessed))\n",
    "print(\"Predicted Label: \", np.argmax(model.predict(img_preprocessed)))\n",
    "print('Actual image: ')\n",
    "plt.figure(figsize = (1, 1))\n",
    "plt.imshow(number_nine, cmap = 'gray')\n"
   ]
  },
  {
   "cell_type": "code",
   "execution_count": 22,
   "metadata": {},
   "outputs": [
    {
     "name": "stdout",
     "output_type": "stream",
     "text": [
      "Predicted Label:  6\n",
      "Actual image: \n"
     ]
    },
    {
     "data": {
      "text/plain": [
       "<matplotlib.image.AxesImage at 0x1623bea90>"
      ]
     },
     "execution_count": 22,
     "metadata": {},
     "output_type": "execute_result"
    },
    {
     "data": {
      "image/png": "[encoded data removed]",
      "text/plain": [
       "<Figure size 72x72 with 1 Axes>"
      ]
     },
     "metadata": {
      "needs_background": "light"
     },
     "output_type": "display_data"
    }
   ],
   "source": [
    "# number_nine = Image.open('mnist_test/dataset-ml/0/0-m-1.jpeg')\n",
    "number_nine = image.load_img('mnist_test/dataset-ml/7/7-m-1.jpeg', target_size=(28, 28))\n",
    "img_array = image.img_to_array(number_nine)\n",
    "img_batch = np.expand_dims(img_array, axis=0)\n",
    "img_preprocessed = preprocess_input(img_batch)\n",
    "print(\"Predicted Label: \", np.argmax(model.predict(img_preprocessed)))\n",
    "print('Actual image: ')\n",
    "plt.figure(figsize = (1, 1))\n",
    "plt.imshow(number_nine, cmap = 'gray')"
   ]
  },
  {
   "cell_type": "code",
   "execution_count": 39,
   "metadata": {},
   "outputs": [
    {
     "name": "stdout",
     "output_type": "stream",
     "text": [
      "Predicted Label:  6\n",
      "Actual image: \n"
     ]
    },
    {
     "data": {
      "text/plain": [
       "<matplotlib.image.AxesImage at 0x14ded0ac0>"
      ]
     },
     "execution_count": 39,
     "metadata": {},
     "output_type": "execute_result"
    },
    {
     "data": {
      "image/png": "[encoded data removed]",
      "text/plain": [
       "<Figure size 72x72 with 1 Axes>"
      ]
     },
     "metadata": {
      "needs_background": "light"
     },
     "output_type": "display_data"
    }
   ],
   "source": [
    "# number_nine = Image.open('mnist_test/dataset-ml/0/0-m-1.jpeg')\n",
    "number_nine = image.load_img('mnist_test/47-8.jpeg', target_size=(28, 28))\n",
    "img_array = image.img_to_array(number_nine)\n",
    "img_batch = np.expand_dims(img_array, axis=0)\n",
    "img_preprocessed = preprocess_input(img_batch)\n",
    "print(\"Predicted Label: \", np.argmax(model.predict(img_preprocessed)))\n",
    "print('Actual image: ')\n",
    "plt.figure(figsize = (1, 1))\n",
    "plt.imshow(number_nine, cmap = 'gray')"
   ]
  },
  {
   "cell_type": "code",
   "execution_count": 19,
   "metadata": {},
   "outputs": [
    {
     "name": "stdout",
     "output_type": "stream",
     "text": [
      "WARNING:tensorflow:Model was constructed with shape (None, 28, 28, 3) for input KerasTensor(type_spec=TensorSpec(shape=(None, 28, 28, 3), dtype=tf.float32, name='flatten_input'), name='flatten_input', description=\"created by layer 'flatten_input'\"), but it was called on an input with incompatible shape (None, 28, 28).\n"
     ]
    },
    {
     "ename": "ValueError",
     "evalue": "in user code:\n\n    File \"/Users/duy/miniforge3/envs/TFmacOS/lib/python3.9/site-packages/keras/engine/training.py\", line 1621, in predict_function  *\n        return step_function(self, iterator)\n    File \"/Users/duy/miniforge3/envs/TFmacOS/lib/python3.9/site-packages/keras/engine/training.py\", line 1611, in step_function  **\n        outputs = model.distribute_strategy.run(run_step, args=(data,))\n    File \"/Users/duy/miniforge3/envs/TFmacOS/lib/python3.9/site-packages/keras/engine/training.py\", line 1604, in run_step  **\n        outputs = model.predict_step(data)\n    File \"/Users/duy/miniforge3/envs/TFmacOS/lib/python3.9/site-packages/keras/engine/training.py\", line 1572, in predict_step\n        return self(x, training=False)\n    File \"/Users/duy/miniforge3/envs/TFmacOS/lib/python3.9/site-packages/keras/utils/traceback_utils.py\", line 67, in error_handler\n        raise e.with_traceback(filtered_tb) from None\n    File \"/Users/duy/miniforge3/envs/TFmacOS/lib/python3.9/site-packages/keras/engine/input_spec.py\", line 247, in assert_input_compatibility\n        raise ValueError(\n\n    ValueError: Exception encountered when calling layer \"sequential\" (type Sequential).\n    \n    Input 0 of layer \"dense\" is incompatible with the layer: expected axis -1of input shape to have value 2352, but received input with shape (None, 784)\n    \n    Call arguments received:\n      • inputs=tf.Tensor(shape=(None, 28, 28), dtype=uint8)\n      • training=False\n      • mask=None\n",
     "output_type": "error",
     "traceback": [
      "\u001b[0;31m---------------------------------------------------------------------------\u001b[0m",
      "\u001b[0;31mValueError\u001b[0m                                Traceback (most recent call last)",
      "\u001b[1;32m/Users/duy/Desktop/482/Capstone_Speed_Limit_Classification/DigitRecognitionWithTensorFlow.ipynb Cell 24'\u001b[0m in \u001b[0;36m<cell line: 2>\u001b[0;34m()\u001b[0m\n\u001b[1;32m      <a href='vscode-notebook-cell:/Users/duy/Desktop/482/Capstone_Speed_Limit_Classification/DigitRecognitionWithTensorFlow.ipynb#ch0000021?line=0'>1</a>\u001b[0m number_nine \u001b[39m=\u001b[39m np\u001b[39m.\u001b[39marray(np\u001b[39m.\u001b[39marray(Image\u001b[39m.\u001b[39mopen(\u001b[39m'\u001b[39m\u001b[39mmnist_test/another_9.png\u001b[39m\u001b[39m'\u001b[39m)))\n\u001b[0;32m----> <a href='vscode-notebook-cell:/Users/duy/Desktop/482/Capstone_Speed_Limit_Classification/DigitRecognitionWithTensorFlow.ipynb#ch0000021?line=1'>2</a>\u001b[0m make_prediction_and_display_image(number_nine, model)\n",
      "\u001b[1;32m/Users/duy/Desktop/482/Capstone_Speed_Limit_Classification/DigitRecognitionWithTensorFlow.ipynb Cell 17'\u001b[0m in \u001b[0;36mmake_prediction_and_display_image\u001b[0;34m(np_image, tensorflow_model)\u001b[0m\n\u001b[1;32m      <a href='vscode-notebook-cell:/Users/duy/Desktop/482/Capstone_Speed_Limit_Classification/DigitRecognitionWithTensorFlow.ipynb#ch0000016?line=0'>1</a>\u001b[0m \u001b[39mdef\u001b[39;00m \u001b[39mmake_prediction_and_display_image\u001b[39m(np_image, tensorflow_model):\n\u001b[1;32m      <a href='vscode-notebook-cell:/Users/duy/Desktop/482/Capstone_Speed_Limit_Classification/DigitRecognitionWithTensorFlow.ipynb#ch0000016?line=1'>2</a>\u001b[0m     image \u001b[39m=\u001b[39m np_image\u001b[39m.\u001b[39mreshape(\u001b[39m1\u001b[39m, \u001b[39m28\u001b[39m, \u001b[39m28\u001b[39m)\n\u001b[0;32m----> <a href='vscode-notebook-cell:/Users/duy/Desktop/482/Capstone_Speed_Limit_Classification/DigitRecognitionWithTensorFlow.ipynb#ch0000016?line=3'>4</a>\u001b[0m     \u001b[39mprint\u001b[39m(\u001b[39m\"\u001b[39m\u001b[39mPredicted Label: \u001b[39m\u001b[39m\"\u001b[39m, np\u001b[39m.\u001b[39margmax(tensorflow_model\u001b[39m.\u001b[39;49mpredict(image)[\u001b[39m0\u001b[39m]))\n\u001b[1;32m      <a href='vscode-notebook-cell:/Users/duy/Desktop/482/Capstone_Speed_Limit_Classification/DigitRecognitionWithTensorFlow.ipynb#ch0000016?line=4'>5</a>\u001b[0m     \u001b[39mprint\u001b[39m(\u001b[39m'\u001b[39m\u001b[39mActual image: \u001b[39m\u001b[39m'\u001b[39m)\n\u001b[1;32m      <a href='vscode-notebook-cell:/Users/duy/Desktop/482/Capstone_Speed_Limit_Classification/DigitRecognitionWithTensorFlow.ipynb#ch0000016?line=5'>6</a>\u001b[0m     plt\u001b[39m.\u001b[39mfigure(figsize \u001b[39m=\u001b[39m (\u001b[39m1\u001b[39m, \u001b[39m1\u001b[39m))\n",
      "File \u001b[0;32m~/miniforge3/envs/TFmacOS/lib/python3.9/site-packages/keras/utils/traceback_utils.py:67\u001b[0m, in \u001b[0;36mfilter_traceback.<locals>.error_handler\u001b[0;34m(*args, **kwargs)\u001b[0m\n\u001b[1;32m     <a href='file:///Users/duy/miniforge3/envs/TFmacOS/lib/python3.9/site-packages/keras/utils/traceback_utils.py?line=64'>65</a>\u001b[0m \u001b[39mexcept\u001b[39;00m \u001b[39mException\u001b[39;00m \u001b[39mas\u001b[39;00m e:  \u001b[39m# pylint: disable=broad-except\u001b[39;00m\n\u001b[1;32m     <a href='file:///Users/duy/miniforge3/envs/TFmacOS/lib/python3.9/site-packages/keras/utils/traceback_utils.py?line=65'>66</a>\u001b[0m   filtered_tb \u001b[39m=\u001b[39m _process_traceback_frames(e\u001b[39m.\u001b[39m__traceback__)\n\u001b[0;32m---> <a href='file:///Users/duy/miniforge3/envs/TFmacOS/lib/python3.9/site-packages/keras/utils/traceback_utils.py?line=66'>67</a>\u001b[0m   \u001b[39mraise\u001b[39;00m e\u001b[39m.\u001b[39mwith_traceback(filtered_tb) \u001b[39mfrom\u001b[39;00m \u001b[39mNone\u001b[39m\n\u001b[1;32m     <a href='file:///Users/duy/miniforge3/envs/TFmacOS/lib/python3.9/site-packages/keras/utils/traceback_utils.py?line=67'>68</a>\u001b[0m \u001b[39mfinally\u001b[39;00m:\n\u001b[1;32m     <a href='file:///Users/duy/miniforge3/envs/TFmacOS/lib/python3.9/site-packages/keras/utils/traceback_utils.py?line=68'>69</a>\u001b[0m   \u001b[39mdel\u001b[39;00m filtered_tb\n",
      "File \u001b[0;32m~/miniforge3/envs/TFmacOS/lib/python3.9/site-packages/tensorflow/python/framework/func_graph.py:1129\u001b[0m, in \u001b[0;36mfunc_graph_from_py_func.<locals>.autograph_handler\u001b[0;34m(*args, **kwargs)\u001b[0m\n\u001b[1;32m   <a href='file:///Users/duy/miniforge3/envs/TFmacOS/lib/python3.9/site-packages/tensorflow/python/framework/func_graph.py?line=1126'>1127</a>\u001b[0m \u001b[39mexcept\u001b[39;00m \u001b[39mException\u001b[39;00m \u001b[39mas\u001b[39;00m e:  \u001b[39m# pylint:disable=broad-except\u001b[39;00m\n\u001b[1;32m   <a href='file:///Users/duy/miniforge3/envs/TFmacOS/lib/python3.9/site-packages/tensorflow/python/framework/func_graph.py?line=1127'>1128</a>\u001b[0m   \u001b[39mif\u001b[39;00m \u001b[39mhasattr\u001b[39m(e, \u001b[39m\"\u001b[39m\u001b[39mag_error_metadata\u001b[39m\u001b[39m\"\u001b[39m):\n\u001b[0;32m-> <a href='file:///Users/duy/miniforge3/envs/TFmacOS/lib/python3.9/site-packages/tensorflow/python/framework/func_graph.py?line=1128'>1129</a>\u001b[0m     \u001b[39mraise\u001b[39;00m e\u001b[39m.\u001b[39mag_error_metadata\u001b[39m.\u001b[39mto_exception(e)\n\u001b[1;32m   <a href='file:///Users/duy/miniforge3/envs/TFmacOS/lib/python3.9/site-packages/tensorflow/python/framework/func_graph.py?line=1129'>1130</a>\u001b[0m   \u001b[39melse\u001b[39;00m:\n\u001b[1;32m   <a href='file:///Users/duy/miniforge3/envs/TFmacOS/lib/python3.9/site-packages/tensorflow/python/framework/func_graph.py?line=1130'>1131</a>\u001b[0m     \u001b[39mraise\u001b[39;00m\n",
      "\u001b[0;31mValueError\u001b[0m: in user code:\n\n    File \"/Users/duy/miniforge3/envs/TFmacOS/lib/python3.9/site-packages/keras/engine/training.py\", line 1621, in predict_function  *\n        return step_function(self, iterator)\n    File \"/Users/duy/miniforge3/envs/TFmacOS/lib/python3.9/site-packages/keras/engine/training.py\", line 1611, in step_function  **\n        outputs = model.distribute_strategy.run(run_step, args=(data,))\n    File \"/Users/duy/miniforge3/envs/TFmacOS/lib/python3.9/site-packages/keras/engine/training.py\", line 1604, in run_step  **\n        outputs = model.predict_step(data)\n    File \"/Users/duy/miniforge3/envs/TFmacOS/lib/python3.9/site-packages/keras/engine/training.py\", line 1572, in predict_step\n        return self(x, training=False)\n    File \"/Users/duy/miniforge3/envs/TFmacOS/lib/python3.9/site-packages/keras/utils/traceback_utils.py\", line 67, in error_handler\n        raise e.with_traceback(filtered_tb) from None\n    File \"/Users/duy/miniforge3/envs/TFmacOS/lib/python3.9/site-packages/keras/engine/input_spec.py\", line 247, in assert_input_compatibility\n        raise ValueError(\n\n    ValueError: Exception encountered when calling layer \"sequential\" (type Sequential).\n    \n    Input 0 of layer \"dense\" is incompatible with the layer: expected axis -1of input shape to have value 2352, but received input with shape (None, 784)\n    \n    Call arguments received:\n      • inputs=tf.Tensor(shape=(None, 28, 28), dtype=uint8)\n      • training=False\n      • mask=None\n"
     ]
    }
   ],
   "source": [
    "number_nine = np.array(np.array(Image.open('mnist_test/another_9.png')))\n",
    "make_prediction_and_display_image(number_nine, model)"
   ]
  },
  {
   "cell_type": "code",
   "execution_count": 17,
   "metadata": {},
   "outputs": [
    {
     "name": "stdout",
     "output_type": "stream",
     "text": [
      "WARNING:tensorflow:Model was constructed with shape (None, 28, 28, 3) for input KerasTensor(type_spec=TensorSpec(shape=(None, 28, 28, 3), dtype=tf.float32, name='flatten_input'), name='flatten_input', description=\"created by layer 'flatten_input'\"), but it was called on an input with incompatible shape (None, 28, 28).\n"
     ]
    },
    {
     "ename": "ValueError",
     "evalue": "in user code:\n\n    File \"/Users/duy/miniforge3/envs/TFmacOS/lib/python3.9/site-packages/keras/engine/training.py\", line 1621, in predict_function  *\n        return step_function(self, iterator)\n    File \"/Users/duy/miniforge3/envs/TFmacOS/lib/python3.9/site-packages/keras/engine/training.py\", line 1611, in step_function  **\n        outputs = model.distribute_strategy.run(run_step, args=(data,))\n    File \"/Users/duy/miniforge3/envs/TFmacOS/lib/python3.9/site-packages/keras/engine/training.py\", line 1604, in run_step  **\n        outputs = model.predict_step(data)\n    File \"/Users/duy/miniforge3/envs/TFmacOS/lib/python3.9/site-packages/keras/engine/training.py\", line 1572, in predict_step\n        return self(x, training=False)\n    File \"/Users/duy/miniforge3/envs/TFmacOS/lib/python3.9/site-packages/keras/utils/traceback_utils.py\", line 67, in error_handler\n        raise e.with_traceback(filtered_tb) from None\n    File \"/Users/duy/miniforge3/envs/TFmacOS/lib/python3.9/site-packages/keras/engine/input_spec.py\", line 247, in assert_input_compatibility\n        raise ValueError(\n\n    ValueError: Exception encountered when calling layer \"sequential\" (type Sequential).\n    \n    Input 0 of layer \"dense\" is incompatible with the layer: expected axis -1of input shape to have value 2352, but received input with shape (None, 784)\n    \n    Call arguments received:\n      • inputs=tf.Tensor(shape=(None, 28, 28), dtype=uint8)\n      • training=False\n      • mask=None\n",
     "output_type": "error",
     "traceback": [
      "\u001b[0;31m---------------------------------------------------------------------------\u001b[0m",
      "\u001b[0;31mValueError\u001b[0m                                Traceback (most recent call last)",
      "\u001b[1;32m/Users/duy/Desktop/482/Capstone_Speed_Limit_Classification/DigitRecognitionWithTensorFlow.ipynb Cell 25'\u001b[0m in \u001b[0;36m<cell line: 2>\u001b[0;34m()\u001b[0m\n\u001b[1;32m      <a href='vscode-notebook-cell:/Users/duy/Desktop/482/Capstone_Speed_Limit_Classification/DigitRecognitionWithTensorFlow.ipynb#ch0000022?line=0'>1</a>\u001b[0m number_nine \u001b[39m=\u001b[39m np\u001b[39m.\u001b[39marray(np\u001b[39m.\u001b[39marray(Image\u001b[39m.\u001b[39mopen(\u001b[39m'\u001b[39m\u001b[39mmnist_test/ugly_9.png\u001b[39m\u001b[39m'\u001b[39m)))\n\u001b[0;32m----> <a href='vscode-notebook-cell:/Users/duy/Desktop/482/Capstone_Speed_Limit_Classification/DigitRecognitionWithTensorFlow.ipynb#ch0000022?line=1'>2</a>\u001b[0m make_prediction_and_display_image(number_nine, model)\n",
      "\u001b[1;32m/Users/duy/Desktop/482/Capstone_Speed_Limit_Classification/DigitRecognitionWithTensorFlow.ipynb Cell 17'\u001b[0m in \u001b[0;36mmake_prediction_and_display_image\u001b[0;34m(np_image, tensorflow_model)\u001b[0m\n\u001b[1;32m      <a href='vscode-notebook-cell:/Users/duy/Desktop/482/Capstone_Speed_Limit_Classification/DigitRecognitionWithTensorFlow.ipynb#ch0000016?line=0'>1</a>\u001b[0m \u001b[39mdef\u001b[39;00m \u001b[39mmake_prediction_and_display_image\u001b[39m(np_image, tensorflow_model):\n\u001b[1;32m      <a href='vscode-notebook-cell:/Users/duy/Desktop/482/Capstone_Speed_Limit_Classification/DigitRecognitionWithTensorFlow.ipynb#ch0000016?line=1'>2</a>\u001b[0m     image \u001b[39m=\u001b[39m np_image\u001b[39m.\u001b[39mreshape(\u001b[39m1\u001b[39m, \u001b[39m28\u001b[39m, \u001b[39m28\u001b[39m)\n\u001b[0;32m----> <a href='vscode-notebook-cell:/Users/duy/Desktop/482/Capstone_Speed_Limit_Classification/DigitRecognitionWithTensorFlow.ipynb#ch0000016?line=3'>4</a>\u001b[0m     \u001b[39mprint\u001b[39m(\u001b[39m\"\u001b[39m\u001b[39mPredicted Label: \u001b[39m\u001b[39m\"\u001b[39m, np\u001b[39m.\u001b[39margmax(tensorflow_model\u001b[39m.\u001b[39;49mpredict(image)[\u001b[39m0\u001b[39m]))\n\u001b[1;32m      <a href='vscode-notebook-cell:/Users/duy/Desktop/482/Capstone_Speed_Limit_Classification/DigitRecognitionWithTensorFlow.ipynb#ch0000016?line=4'>5</a>\u001b[0m     \u001b[39mprint\u001b[39m(\u001b[39m'\u001b[39m\u001b[39mActual image: \u001b[39m\u001b[39m'\u001b[39m)\n\u001b[1;32m      <a href='vscode-notebook-cell:/Users/duy/Desktop/482/Capstone_Speed_Limit_Classification/DigitRecognitionWithTensorFlow.ipynb#ch0000016?line=5'>6</a>\u001b[0m     plt\u001b[39m.\u001b[39mfigure(figsize \u001b[39m=\u001b[39m (\u001b[39m1\u001b[39m, \u001b[39m1\u001b[39m))\n",
      "File \u001b[0;32m~/miniforge3/envs/TFmacOS/lib/python3.9/site-packages/keras/utils/traceback_utils.py:67\u001b[0m, in \u001b[0;36mfilter_traceback.<locals>.error_handler\u001b[0;34m(*args, **kwargs)\u001b[0m\n\u001b[1;32m     <a href='file:///Users/duy/miniforge3/envs/TFmacOS/lib/python3.9/site-packages/keras/utils/traceback_utils.py?line=64'>65</a>\u001b[0m \u001b[39mexcept\u001b[39;00m \u001b[39mException\u001b[39;00m \u001b[39mas\u001b[39;00m e:  \u001b[39m# pylint: disable=broad-except\u001b[39;00m\n\u001b[1;32m     <a href='file:///Users/duy/miniforge3/envs/TFmacOS/lib/python3.9/site-packages/keras/utils/traceback_utils.py?line=65'>66</a>\u001b[0m   filtered_tb \u001b[39m=\u001b[39m _process_traceback_frames(e\u001b[39m.\u001b[39m__traceback__)\n\u001b[0;32m---> <a href='file:///Users/duy/miniforge3/envs/TFmacOS/lib/python3.9/site-packages/keras/utils/traceback_utils.py?line=66'>67</a>\u001b[0m   \u001b[39mraise\u001b[39;00m e\u001b[39m.\u001b[39mwith_traceback(filtered_tb) \u001b[39mfrom\u001b[39;00m \u001b[39mNone\u001b[39m\n\u001b[1;32m     <a href='file:///Users/duy/miniforge3/envs/TFmacOS/lib/python3.9/site-packages/keras/utils/traceback_utils.py?line=67'>68</a>\u001b[0m \u001b[39mfinally\u001b[39;00m:\n\u001b[1;32m     <a href='file:///Users/duy/miniforge3/envs/TFmacOS/lib/python3.9/site-packages/keras/utils/traceback_utils.py?line=68'>69</a>\u001b[0m   \u001b[39mdel\u001b[39;00m filtered_tb\n",
      "File \u001b[0;32m~/miniforge3/envs/TFmacOS/lib/python3.9/site-packages/tensorflow/python/framework/func_graph.py:1129\u001b[0m, in \u001b[0;36mfunc_graph_from_py_func.<locals>.autograph_handler\u001b[0;34m(*args, **kwargs)\u001b[0m\n\u001b[1;32m   <a href='file:///Users/duy/miniforge3/envs/TFmacOS/lib/python3.9/site-packages/tensorflow/python/framework/func_graph.py?line=1126'>1127</a>\u001b[0m \u001b[39mexcept\u001b[39;00m \u001b[39mException\u001b[39;00m \u001b[39mas\u001b[39;00m e:  \u001b[39m# pylint:disable=broad-except\u001b[39;00m\n\u001b[1;32m   <a href='file:///Users/duy/miniforge3/envs/TFmacOS/lib/python3.9/site-packages/tensorflow/python/framework/func_graph.py?line=1127'>1128</a>\u001b[0m   \u001b[39mif\u001b[39;00m \u001b[39mhasattr\u001b[39m(e, \u001b[39m\"\u001b[39m\u001b[39mag_error_metadata\u001b[39m\u001b[39m\"\u001b[39m):\n\u001b[0;32m-> <a href='file:///Users/duy/miniforge3/envs/TFmacOS/lib/python3.9/site-packages/tensorflow/python/framework/func_graph.py?line=1128'>1129</a>\u001b[0m     \u001b[39mraise\u001b[39;00m e\u001b[39m.\u001b[39mag_error_metadata\u001b[39m.\u001b[39mto_exception(e)\n\u001b[1;32m   <a href='file:///Users/duy/miniforge3/envs/TFmacOS/lib/python3.9/site-packages/tensorflow/python/framework/func_graph.py?line=1129'>1130</a>\u001b[0m   \u001b[39melse\u001b[39;00m:\n\u001b[1;32m   <a href='file:///Users/duy/miniforge3/envs/TFmacOS/lib/python3.9/site-packages/tensorflow/python/framework/func_graph.py?line=1130'>1131</a>\u001b[0m     \u001b[39mraise\u001b[39;00m\n",
      "\u001b[0;31mValueError\u001b[0m: in user code:\n\n    File \"/Users/duy/miniforge3/envs/TFmacOS/lib/python3.9/site-packages/keras/engine/training.py\", line 1621, in predict_function  *\n        return step_function(self, iterator)\n    File \"/Users/duy/miniforge3/envs/TFmacOS/lib/python3.9/site-packages/keras/engine/training.py\", line 1611, in step_function  **\n        outputs = model.distribute_strategy.run(run_step, args=(data,))\n    File \"/Users/duy/miniforge3/envs/TFmacOS/lib/python3.9/site-packages/keras/engine/training.py\", line 1604, in run_step  **\n        outputs = model.predict_step(data)\n    File \"/Users/duy/miniforge3/envs/TFmacOS/lib/python3.9/site-packages/keras/engine/training.py\", line 1572, in predict_step\n        return self(x, training=False)\n    File \"/Users/duy/miniforge3/envs/TFmacOS/lib/python3.9/site-packages/keras/utils/traceback_utils.py\", line 67, in error_handler\n        raise e.with_traceback(filtered_tb) from None\n    File \"/Users/duy/miniforge3/envs/TFmacOS/lib/python3.9/site-packages/keras/engine/input_spec.py\", line 247, in assert_input_compatibility\n        raise ValueError(\n\n    ValueError: Exception encountered when calling layer \"sequential\" (type Sequential).\n    \n    Input 0 of layer \"dense\" is incompatible with the layer: expected axis -1of input shape to have value 2352, but received input with shape (None, 784)\n    \n    Call arguments received:\n      • inputs=tf.Tensor(shape=(None, 28, 28), dtype=uint8)\n      • training=False\n      • mask=None\n"
     ]
    }
   ],
   "source": [
    "number_nine = np.array(np.array(Image.open('mnist_test/ugly_9.png')))\n",
    "make_prediction_and_display_image(number_nine, model)"
   ]
  },
  {
   "cell_type": "code",
   "execution_count": 115,
   "metadata": {},
   "outputs": [
    {
     "name": "stdout",
     "output_type": "stream",
     "text": [
      "Predicted Label:  8\n",
      "Actual image: \n"
     ]
    },
    {
     "data": {
      "image/png": "[encoded data removed]",
      "text/plain": [
       "<Figure size 72x72 with 1 Axes>"
      ]
     },
     "metadata": {
      "needs_background": "light"
     },
     "output_type": "display_data"
    }
   ],
   "source": [
    "number_nine = np.array(np.array(Image.open('mnist_test/one_more_9.png')))\n",
    "make_prediction_and_display_image(number_nine, model)"
   ]
  },
  {
   "cell_type": "code",
   "execution_count": 116,
   "metadata": {},
   "outputs": [
    {
     "name": "stdout",
     "output_type": "stream",
     "text": [
      "Predicted Label:  8\n",
      "Actual image: \n"
     ]
    },
    {
     "data": {
      "image/png": "[encoded data removed]",
      "text/plain": [
       "<Figure size 72x72 with 1 Axes>"
      ]
     },
     "metadata": {
      "needs_background": "light"
     },
     "output_type": "display_data"
    }
   ],
   "source": [
    "number_nine = np.array(np.array(Image.open('mnist_test/nine.png')))\n",
    "make_prediction_and_display_image(number_nine, model)"
   ]
  },
  {
   "cell_type": "code",
   "execution_count": 117,
   "metadata": {
    "colab": {},
    "colab_type": "code",
    "id": "9GmHIZI4L1kz"
   },
   "outputs": [
    {
     "name": "stdout",
     "output_type": "stream",
     "text": [
      "Predicted Label:  8\n",
      "Actual image: \n"
     ]
    },
    {
     "data": {
      "image/png": "[encoded data removed]",
      "text/plain": [
       "<Figure size 72x72 with 1 Axes>"
      ]
     },
     "metadata": {
      "needs_background": "light"
     },
     "output_type": "display_data"
    }
   ],
   "source": [
    "number_three = np.array(np.array(Image.open('mnist_test/3.png')))\n",
    "make_prediction_and_display_image(number_three, model)"
   ]
  },
  {
   "cell_type": "code",
   "execution_count": 118,
   "metadata": {
    "colab": {},
    "colab_type": "code",
    "id": "jgEonSJ9MR7e"
   },
   "outputs": [
    {
     "name": "stdout",
     "output_type": "stream",
     "text": [
      "Predicted Label:  8\n",
      "Actual image: \n"
     ]
    },
    {
     "data": {
      "image/png": "[encoded data removed]",
      "text/plain": [
       "<Figure size 72x72 with 1 Axes>"
      ]
     },
     "metadata": {
      "needs_background": "light"
     },
     "output_type": "display_data"
    }
   ],
   "source": [
    "number_six=np.array(np.array(Image.open('mnist_test/6.png')))\n",
    "make_prediction_and_display_image(number_six, model)"
   ]
  },
  {
   "cell_type": "code",
   "execution_count": 119,
   "metadata": {
    "colab": {},
    "colab_type": "code",
    "id": "ADAoS5T1Mn8r"
   },
   "outputs": [
    {
     "name": "stdout",
     "output_type": "stream",
     "text": [
      "Predicted Label:  8\n",
      "Actual image: \n"
     ]
    },
    {
     "data": {
      "image/png": "[encoded data removed]",
      "text/plain": [
       "<Figure size 72x72 with 1 Axes>"
      ]
     },
     "metadata": {
      "needs_background": "light"
     },
     "output_type": "display_data"
    }
   ],
   "source": [
    "number_five = np.array(np.array(Image.open('mnist_test/number_five.png')))\n",
    "make_prediction_and_display_image(number_five, model)"
   ]
  },
  {
   "cell_type": "code",
   "execution_count": 9,
   "metadata": {},
   "outputs": [],
   "source": [
    "from tensorflow import keras"
   ]
  },
  {
   "cell_type": "code",
   "execution_count": 10,
   "metadata": {},
   "outputs": [],
   "source": [
    "dirname = os.getcwd()\n",
    "checkpoint_path = \"training_1/cp.ckpt\"\n",
    "checkpoint_dir = os.path.join(dirname, \"training_1\")"
   ]
  },
  {
   "cell_type": "code",
   "execution_count": 11,
   "metadata": {},
   "outputs": [],
   "source": [
    "# Create a callback that saves the model's weights\n",
    "cp_callback = tf.keras.callbacks.ModelCheckpoint(filepath=checkpoint_path, save_weights_only=True, verbose=1)"
   ]
  },
  {
   "cell_type": "code",
   "execution_count": 12,
   "metadata": {},
   "outputs": [
    {
     "data": {
      "text/plain": [
       "['cp.ckpt.data-00000-of-00001', 'checkpoint', 'cp.ckpt.index']"
      ]
     },
     "execution_count": 12,
     "metadata": {},
     "output_type": "execute_result"
    }
   ],
   "source": [
    "os.listdir(checkpoint_dir)"
   ]
  },
  {
   "cell_type": "code",
   "execution_count": 13,
   "metadata": {},
   "outputs": [
    {
     "name": "stderr",
     "output_type": "stream",
     "text": [
      "2022-04-25 08:46:48.922028: W tensorflow/python/util/util.cc:368] Sets are not currently considered sequences, but this may change in the future, so consider avoiding using them.\n"
     ]
    },
    {
     "name": "stdout",
     "output_type": "stream",
     "text": [
      "INFO:tensorflow:Assets written to: dev_ws/saved_model/my_model/assets\n"
     ]
    }
   ],
   "source": [
    "# Save the entire model as a SavedModel.\n",
    "model.save('dev_ws/saved_model/my_model')"
   ]
  },
  {
   "cell_type": "code",
   "execution_count": 14,
   "metadata": {},
   "outputs": [
    {
     "name": "stdout",
     "output_type": "stream",
     "text": [
      "Model: \"sequential\"\n",
      "_________________________________________________________________\n",
      " Layer (type)                Output Shape              Param #   \n",
      "=================================================================\n",
      " flatten (Flatten)           (None, 2352)              0         \n",
      "                                                                 \n",
      " dense (Dense)               (None, 512)               1204736   \n",
      "                                                                 \n",
      " dropout (Dropout)           (None, 512)               0         \n",
      "                                                                 \n",
      " dense_1 (Dense)             (None, 10)                5130      \n",
      "                                                                 \n",
      "=================================================================\n",
      "Total params: 1,209,866\n",
      "Trainable params: 1,209,866\n",
      "Non-trainable params: 0\n",
      "_________________________________________________________________\n"
     ]
    }
   ],
   "source": [
    "new_model = tf.keras.models.load_model('dev_ws/saved_model/my_model')\n",
    "\n",
    "# Check its architecture\n",
    "new_model.summary()"
   ]
  },
  {
   "cell_type": "code",
   "execution_count": 15,
   "metadata": {},
   "outputs": [
    {
     "name": "stdout",
     "output_type": "stream",
     "text": [
      "340/340 - 3s - loss: 0.4280 - accuracy: 0.9275 - 3s/epoch - 8ms/step\n",
      "Restored model, accuracy: 92.75%\n",
      "(10864, 10)\n"
     ]
    }
   ],
   "source": [
    "# Evaluate the restored model\n",
    "loss, acc = new_model.evaluate(val_ds, verbose=2)\n",
    "print('Restored model, accuracy: {:5.2f}%'.format(100 * acc))\n",
    "\n",
    "print(new_model.predict(val_ds).shape)"
   ]
  },
  {
   "cell_type": "code",
   "execution_count": null,
   "metadata": {},
   "outputs": [],
   "source": []
  }
 ],
 "metadata": {
  "colab": {
   "collapsed_sections": [],
   "name": "Copy of _index.ipynb",
   "private_outputs": true,
   "provenance": [
    {
     "file_id": "https://github.com/tensorflow/docs/blob/master/site/en/tutorials/_index.ipynb",
     "timestamp": 1561490564528
    }
   ],
   "version": "0.3.2"
  },
  "kernelspec": {
   "display_name": "Python 3",
   "language": "python",
   "name": "python3"
  },
  "language_info": {
   "codemirror_mode": {
    "name": "ipython",
    "version": 3
   },
   "file_extension": ".py",
   "mimetype": "text/x-python",
   "name": "python",
   "nbconvert_exporter": "python",
   "pygments_lexer": "ipython3",
   "version": "3.9.0"
  }
 },
 "nbformat": 4,
 "nbformat_minor": 1
}
